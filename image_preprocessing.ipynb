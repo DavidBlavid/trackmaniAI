{
 "cells": [
  {
   "cell_type": "code",
   "execution_count": 2,
   "metadata": {},
   "outputs": [],
   "source": [
    "import cv2\n",
    "import os"
   ]
  },
  {
   "cell_type": "code",
   "execution_count": 3,
   "metadata": {},
   "outputs": [
    {
     "data": {
      "text/plain": [
       "['Trackmania (Steam)2024-12-30-10-51-12.jpg',\n",
       " 'Trackmania (Steam)2024-12-30-10-51-24.jpg',\n",
       " 'Trackmania (Steam)2024-12-30-10-51-33.jpg',\n",
       " 'Trackmania (Steam)2024-12-30-10-51-40.jpg',\n",
       " 'Trackmania (Steam)2024-12-30-10-51-5.jpg',\n",
       " 'Trackmania (Steam)2024-12-30-10-51-50.jpg',\n",
       " 'Trackmania (Steam)2024-12-30-10-51-9.jpg',\n",
       " 'Trackmania (Steam)2024-12-30-10-52-23.jpg',\n",
       " 'Trackmania (Steam)2024-12-30-10-52-26.jpg',\n",
       " 'Trackmania (Steam)2024-12-30-10-52-3.jpg',\n",
       " 'Trackmania (Steam)2024-12-30-10-52-34.jpg']"
      ]
     },
     "execution_count": 3,
     "metadata": {},
     "output_type": "execute_result"
    }
   ],
   "source": [
    "image_path = 'images'\n",
    "\n",
    "# get all images in the folder\n",
    "image_files = os.listdir(image_path)\n",
    "image_files"
   ]
  },
  {
   "cell_type": "code",
   "execution_count": 5,
   "metadata": {},
   "outputs": [
    {
     "name": "stdout",
     "output_type": "stream",
     "text": [
      "Processed Trackmania (Steam)2024-12-30-10-51-12.jpg\n",
      "Processed Trackmania (Steam)2024-12-30-10-51-24.jpg\n",
      "Processed Trackmania (Steam)2024-12-30-10-51-33.jpg\n",
      "Processed Trackmania (Steam)2024-12-30-10-51-40.jpg\n",
      "Processed Trackmania (Steam)2024-12-30-10-51-5.jpg\n",
      "Processed Trackmania (Steam)2024-12-30-10-51-50.jpg\n",
      "Processed Trackmania (Steam)2024-12-30-10-51-9.jpg\n",
      "Processed Trackmania (Steam)2024-12-30-10-52-23.jpg\n",
      "Processed Trackmania (Steam)2024-12-30-10-52-26.jpg\n",
      "Processed Trackmania (Steam)2024-12-30-10-52-3.jpg\n",
      "Processed Trackmania (Steam)2024-12-30-10-52-34.jpg\n"
     ]
    }
   ],
   "source": [
    "final_image_path = 'images_processed'\n",
    "\n",
    "# two operations:\n",
    "# 1. convert to grayscale\n",
    "# 2. resize to 64x64\n",
    "\n",
    "for image_file in image_files:\n",
    "    image = cv2.imread(os.path.join(image_path, image_file))\n",
    "    gray_image = cv2.cvtColor(image, cv2.COLOR_BGR2GRAY)\n",
    "    resized_image = cv2.resize(gray_image, (64, 64))\n",
    "    cv2.imwrite(os.path.join(final_image_path, image_file), resized_image)\n",
    "    print(f'Processed {image_file}')\n"
   ]
  },
  {
   "cell_type": "code",
   "execution_count": null,
   "metadata": {},
   "outputs": [],
   "source": []
  }
 ],
 "metadata": {
  "kernelspec": {
   "display_name": "bai_env",
   "language": "python",
   "name": "python3"
  },
  "language_info": {
   "codemirror_mode": {
    "name": "ipython",
    "version": 3
   },
   "file_extension": ".py",
   "mimetype": "text/x-python",
   "name": "python",
   "nbconvert_exporter": "python",
   "pygments_lexer": "ipython3",
   "version": "3.12.7"
  }
 },
 "nbformat": 4,
 "nbformat_minor": 2
}
